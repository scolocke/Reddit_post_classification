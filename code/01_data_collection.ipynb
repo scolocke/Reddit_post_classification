{
 "cells": [
  {
   "cell_type": "markdown",
   "id": "aa156a51",
   "metadata": {},
   "source": [
    "# Data Collection with PushShift API\n",
    "\n",
    "Two loops searching over the two subreddits. The base epoch_time is 10AM PST 2021/07/30. Searching backwards, submissions are taken 100 at a time with newest duplicates removed. Add a `full_text` column corresponding to a combination of the title and self_text. "
   ]
  },
  {
   "cell_type": "code",
   "execution_count": 1,
   "id": "1e9bf52d",
   "metadata": {},
   "outputs": [],
   "source": [
    "#import necessary libraries\n",
    "import pandas as pd\n",
    "import numpy as np\n",
    "import datetime as dt\n",
    "import time\n",
    "import requests"
   ]
  },
  {
   "cell_type": "code",
   "execution_count": null,
   "id": "67fcc7a7",
   "metadata": {},
   "outputs": [],
   "source": [
    "#10AM PST 2021/07/30\n",
    "epoch_time = 1627664412\n",
    "#empty df to append to as we go along\n",
    "dj_all = pd.DataFrame()\n",
    "#which columns we care for\n",
    "column_list = ['title', 'selftext', 'subreddit','created_utc', 'author', 'num_comments', 'score', 'is_self']\n",
    "#loop until we have at least 6000 \"unique\" submissions\n",
    "while dj_all.shape[0] < 6000:\n",
    "    #dadjoke url, updating epoch as we go along\n",
    "    url_dj = f\"https://api.pushshift.io/reddit/search/submission?subreddit=dadjokes&size=100&before={epoch_time}\"\n",
    "    res_dj = requests.get(url_dj)\n",
    "    if res_dj.status_code != 200:\n",
    "        #in case we get a time out error, try again after 5s 3 times then fully break\n",
    "        print(\"ruh roh... sleep and retry\")\n",
    "        failed +=1\n",
    "        if failed >=3:\n",
    "            print('Big ruh roh')\n",
    "            break\n",
    "        time.sleep(5)\n",
    "        continue\n",
    "    failed = 0\n",
    "\n",
    "    #Combine new entries to ones we have, drop newest duplicates, wait 5s\n",
    "    dj_temp = pd.DataFrame(res_dj.json()['data'])[column_list]\n",
    "    epoch_time = dj_temp['created_utc'].min()\n",
    "    time.sleep(5)\n",
    "    dj_all = pd.concat([dj_all,dj_temp])\n",
    "    dj_all.drop_duplicates('selftext',keep='last',inplace=True)\n",
    "    \n",
    "    print(epoch_time,dj_all.shape[0])"
   ]
  },
  {
   "cell_type": "code",
   "execution_count": null,
   "id": "d0608294",
   "metadata": {},
   "outputs": [],
   "source": [
    "#Follows the same method as above, just with antijokes instead\n",
    "epoch_time = 1627664412\n",
    "aj_all = pd.DataFrame()\n",
    "\n",
    "failed = 0\n",
    "while aj_all.shape[0] < 6000:\n",
    "    url_aj = f\"https://api.pushshift.io/reddit/search/submission?subreddit=AntiJokes&size=100&before={epoch_time}\"\n",
    "    res_aj = requests.get(url_aj)\n",
    "    if res_aj.status_code != 200:\n",
    "        print(\"ruh roh... sleep and retry\")\n",
    "        failed +=1\n",
    "        if failed >=3:\n",
    "            print('Big ruh roh')\n",
    "            break\n",
    "        time.sleep(5)\n",
    "        continue\n",
    "    failed = 0\n",
    "    aj_temp = pd.DataFrame(res_aj.json()['data'])[column_list]\n",
    "    #print(dj_temp.shape)\n",
    "    epoch_time = aj_temp['created_utc'].min()\n",
    "    time.sleep(5)\n",
    "    aj_all = pd.concat([aj_all,aj_temp])\n",
    "    #print(dj_all.shape)\n",
    "    aj_all.drop_duplicates('selftext',keep='last',inplace=True)\n",
    "    \n",
    "    print(epoch_time,aj_all.shape[0])\n"
   ]
  },
  {
   "cell_type": "code",
   "execution_count": null,
   "id": "a2b215d8",
   "metadata": {},
   "outputs": [],
   "source": [
    "#Combine the two into 1 dataframe.\n",
    "jokes_all = pd.concat([dj_all,aj_all])\n",
    "#Add full_text as combined title and self\n",
    "jokes_all['full_text'] = jokes_all['title'] + \" \" + jokes_all['selftext']\n",
    "jokes_all = jokes_all[(jokes_all['selftext'] != '[deleted]') & (jokes_all['selftext'] != '[removed]')]\n",
    "#drop nulls,think I randomly had 1\n",
    "jokes_all.dropna(inplace=True)\n",
    "#Save\n",
    "# jokes_all.to_csv('../data/jokes.csv')"
   ]
  },
  {
   "cell_type": "code",
   "execution_count": null,
   "id": "6febf5bc",
   "metadata": {},
   "outputs": [],
   "source": []
  },
  {
   "cell_type": "code",
   "execution_count": null,
   "id": "22d67efb",
   "metadata": {},
   "outputs": [],
   "source": []
  }
 ],
 "metadata": {
  "kernelspec": {
   "display_name": "Python 3",
   "language": "python",
   "name": "python3"
  },
  "language_info": {
   "codemirror_mode": {
    "name": "ipython",
    "version": 3
   },
   "file_extension": ".py",
   "mimetype": "text/x-python",
   "name": "python",
   "nbconvert_exporter": "python",
   "pygments_lexer": "ipython3",
   "version": "3.8.8"
  }
 },
 "nbformat": 4,
 "nbformat_minor": 5
}
