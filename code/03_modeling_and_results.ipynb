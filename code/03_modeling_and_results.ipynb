{
 "cells": [
  {
   "cell_type": "markdown",
   "id": "c4cc412d",
   "metadata": {},
   "source": [
    "# Modeling and Results\n",
    "\n",
    "Ultimately, in the model testing, six sets of stop words are tested. All include a small subset of give aways, while the other six are standard english, top 50, top 100, english + top50, and english + top100 where top50/top100 are overlapping words contained in the top 50/100 words for each sub. These top lists have english stop words pre removed. \n",
    "\n",
    "Five pipelines are made, with the best results from full gridsearches used. Commented out include the final set of parameters searched for each fit type. The five pipelines correspond to CountVectoriezer/Naive Bayes, Tfidf/NaiveBayes, Tfidf/Logistic Regression, Tfidf/DecisionTree, and Tfidf/RandomForest. Each pipeline is then applied to each of tokenization set (none, Lemmatizing, stemming). Initial tuning for each pipeline was only performed on the none tokenized set. \n",
    "\n",
    "Finally, a LassoLR and RidgeLR were applied to all three tokenized sets. C values were searched over, and the engineered columns were added. Engineered columns weren't used in other instances because I didn't know how to properly incororate them to the pipeline. Limitations to the Lasso and Ridge fits are computer memory that were not encountered in pipline fitting. This is an area for further study. \n"
   ]
  },
  {
   "cell_type": "code",
   "execution_count": 1,
   "id": "2f167685",
   "metadata": {},
   "outputs": [],
   "source": [
    "#imports\n",
    "import pandas as pd\n",
    "import numpy as np\n",
    "import datetime as dt\n",
    "import time\n",
    "import requests\n",
    "import matplotlib.pyplot as plt\n",
    "import string\n",
    "import seaborn as sns\n",
    "\n",
    "from sklearn.model_selection import train_test_split, GridSearchCV\n",
    "from sklearn.pipeline import Pipeline\n",
    "from sklearn.naive_bayes import MultinomialNB\n",
    "from sklearn.linear_model import LogisticRegression,LogisticRegressionCV\n",
    "from sklearn.metrics import confusion_matrix, plot_confusion_matrix\n",
    "\n",
    "from nltk.tokenize import sent_tokenize, word_tokenize, RegexpTokenizer\n",
    "from nltk.stem import WordNetLemmatizer\n",
    "from nltk.stem.porter import PorterStemmer\n",
    "from nltk.corpus import stopwords\n",
    "from sklearn.tree import DecisionTreeClassifier\n",
    "from sklearn.ensemble import RandomForestClassifier, ExtraTreesClassifier\n",
    "\n",
    "from sklearn.preprocessing import StandardScaler\n",
    "from nltk.sentiment.vader import SentimentIntensityAnalyzer\n",
    "\n",
    "\n",
    "from skopt.space import Integer, Real, Categorical\n",
    "from skopt import BayesSearchCV\n",
    "from scipy.stats import uniform, loguniform\n",
    "\n",
    "# Import CountVectorizer and TFIDFVectorizer from feature_extraction.text.\n",
    "from sklearn.feature_extraction.text import CountVectorizer, TfidfVectorizer\n"
   ]
  },
  {
   "cell_type": "code",
   "execution_count": 2,
   "id": "0a091b1a",
   "metadata": {},
   "outputs": [],
   "source": [
    "#load processed data\n",
    "jokes_all = pd.read_csv('../data/jokes_processed.csv')"
   ]
  },
  {
   "cell_type": "code",
   "execution_count": 3,
   "id": "50971ca5",
   "metadata": {},
   "outputs": [],
   "source": [
    "#make individual dataframes for word lists\n",
    "X = jokes_all['full_text']\n",
    "y = jokes_all['dad']\n",
    "X_dj = jokes_all[jokes_all['dad'] == 1]['full_text']\n",
    "y_dj = jokes_all[jokes_all['dad'] == 1]['dad']\n",
    "X_aj = jokes_all[jokes_all['dad'] == 0]['full_text']\n",
    "y_aj = jokes_all[jokes_all['dad'] == 0]['dad']\n",
    "X_train, X_test, y_train, y_test = train_test_split(X,y,test_size=0.2,random_state=42)"
   ]
  },
  {
   "cell_type": "code",
   "execution_count": 4,
   "id": "69db7c40",
   "metadata": {},
   "outputs": [
    {
     "data": {
      "text/html": [
       "<div>\n",
       "<style scoped>\n",
       "    .dataframe tbody tr th:only-of-type {\n",
       "        vertical-align: middle;\n",
       "    }\n",
       "\n",
       "    .dataframe tbody tr th {\n",
       "        vertical-align: top;\n",
       "    }\n",
       "\n",
       "    .dataframe thead th {\n",
       "        text-align: right;\n",
       "    }\n",
       "</style>\n",
       "<table border=\"1\" class=\"dataframe\">\n",
       "  <thead>\n",
       "    <tr style=\"text-align: right;\">\n",
       "      <th></th>\n",
       "      <th>00</th>\n",
       "      <th>000</th>\n",
       "      <th>01k</th>\n",
       "      <th>02</th>\n",
       "      <th>05</th>\n",
       "      <th>07</th>\n",
       "      <th>0mg</th>\n",
       "      <th>0nsznmdxnzu</th>\n",
       "      <th>10</th>\n",
       "      <th>100</th>\n",
       "      <th>...</th>\n",
       "      <th>𝒊𝒏</th>\n",
       "      <th>𝒍𝒊𝒌𝒆𝒏𝒆𝒅</th>\n",
       "      <th>𝒑𝒉𝒂𝒓𝒂𝒐𝒉</th>\n",
       "      <th>𝒕𝒉𝒆</th>\n",
       "      <th>𝒕𝒐</th>\n",
       "      <th>𝒚𝒐𝒖𝒏𝒈𝒆𝒔𝒕</th>\n",
       "      <th>𝙏𝙤𝙤𝙩</th>\n",
       "      <th>𝙖𝙣</th>\n",
       "      <th>𝙘𝙤𝙢𝙢𝙤𝙣</th>\n",
       "      <th>𝙞𝙣</th>\n",
       "    </tr>\n",
       "  </thead>\n",
       "  <tbody>\n",
       "    <tr>\n",
       "      <th>0</th>\n",
       "      <td>0</td>\n",
       "      <td>0</td>\n",
       "      <td>0</td>\n",
       "      <td>0</td>\n",
       "      <td>0</td>\n",
       "      <td>0</td>\n",
       "      <td>0</td>\n",
       "      <td>0</td>\n",
       "      <td>0</td>\n",
       "      <td>0</td>\n",
       "      <td>...</td>\n",
       "      <td>0</td>\n",
       "      <td>0</td>\n",
       "      <td>0</td>\n",
       "      <td>0</td>\n",
       "      <td>0</td>\n",
       "      <td>0</td>\n",
       "      <td>0</td>\n",
       "      <td>0</td>\n",
       "      <td>0</td>\n",
       "      <td>0</td>\n",
       "    </tr>\n",
       "    <tr>\n",
       "      <th>1</th>\n",
       "      <td>0</td>\n",
       "      <td>0</td>\n",
       "      <td>0</td>\n",
       "      <td>0</td>\n",
       "      <td>0</td>\n",
       "      <td>0</td>\n",
       "      <td>0</td>\n",
       "      <td>0</td>\n",
       "      <td>0</td>\n",
       "      <td>0</td>\n",
       "      <td>...</td>\n",
       "      <td>0</td>\n",
       "      <td>0</td>\n",
       "      <td>0</td>\n",
       "      <td>0</td>\n",
       "      <td>0</td>\n",
       "      <td>0</td>\n",
       "      <td>0</td>\n",
       "      <td>0</td>\n",
       "      <td>0</td>\n",
       "      <td>0</td>\n",
       "    </tr>\n",
       "    <tr>\n",
       "      <th>2</th>\n",
       "      <td>0</td>\n",
       "      <td>0</td>\n",
       "      <td>0</td>\n",
       "      <td>0</td>\n",
       "      <td>0</td>\n",
       "      <td>0</td>\n",
       "      <td>0</td>\n",
       "      <td>0</td>\n",
       "      <td>0</td>\n",
       "      <td>0</td>\n",
       "      <td>...</td>\n",
       "      <td>0</td>\n",
       "      <td>0</td>\n",
       "      <td>0</td>\n",
       "      <td>0</td>\n",
       "      <td>0</td>\n",
       "      <td>0</td>\n",
       "      <td>0</td>\n",
       "      <td>0</td>\n",
       "      <td>0</td>\n",
       "      <td>0</td>\n",
       "    </tr>\n",
       "    <tr>\n",
       "      <th>3</th>\n",
       "      <td>0</td>\n",
       "      <td>0</td>\n",
       "      <td>0</td>\n",
       "      <td>0</td>\n",
       "      <td>0</td>\n",
       "      <td>0</td>\n",
       "      <td>0</td>\n",
       "      <td>0</td>\n",
       "      <td>0</td>\n",
       "      <td>0</td>\n",
       "      <td>...</td>\n",
       "      <td>0</td>\n",
       "      <td>0</td>\n",
       "      <td>0</td>\n",
       "      <td>0</td>\n",
       "      <td>0</td>\n",
       "      <td>0</td>\n",
       "      <td>0</td>\n",
       "      <td>0</td>\n",
       "      <td>0</td>\n",
       "      <td>0</td>\n",
       "    </tr>\n",
       "    <tr>\n",
       "      <th>4</th>\n",
       "      <td>0</td>\n",
       "      <td>0</td>\n",
       "      <td>0</td>\n",
       "      <td>0</td>\n",
       "      <td>0</td>\n",
       "      <td>0</td>\n",
       "      <td>0</td>\n",
       "      <td>0</td>\n",
       "      <td>0</td>\n",
       "      <td>0</td>\n",
       "      <td>...</td>\n",
       "      <td>0</td>\n",
       "      <td>0</td>\n",
       "      <td>0</td>\n",
       "      <td>0</td>\n",
       "      <td>0</td>\n",
       "      <td>0</td>\n",
       "      <td>0</td>\n",
       "      <td>0</td>\n",
       "      <td>0</td>\n",
       "      <td>0</td>\n",
       "    </tr>\n",
       "  </tbody>\n",
       "</table>\n",
       "<p>5 rows × 12033 columns</p>\n",
       "</div>"
      ],
      "text/plain": [
       "   00  000  01k  02  05  07  0mg  0nsznmdxnzu  10  100  ...  𝒊𝒏  𝒍𝒊𝒌𝒆𝒏𝒆𝒅  \\\n",
       "0   0    0    0   0   0   0    0            0   0    0  ...   0        0   \n",
       "1   0    0    0   0   0   0    0            0   0    0  ...   0        0   \n",
       "2   0    0    0   0   0   0    0            0   0    0  ...   0        0   \n",
       "3   0    0    0   0   0   0    0            0   0    0  ...   0        0   \n",
       "4   0    0    0   0   0   0    0            0   0    0  ...   0        0   \n",
       "\n",
       "   𝒑𝒉𝒂𝒓𝒂𝒐𝒉  𝒕𝒉𝒆  𝒕𝒐  𝒚𝒐𝒖𝒏𝒈𝒆𝒔𝒕  𝙏𝙤𝙤𝙩  𝙖𝙣  𝙘𝙤𝙢𝙢𝙤𝙣  𝙞𝙣  \n",
       "0        0    0   0         0     0   0       0   0  \n",
       "1        0    0   0         0     0   0       0   0  \n",
       "2        0    0   0         0     0   0       0   0  \n",
       "3        0    0   0         0     0   0       0   0  \n",
       "4        0    0   0         0     0   0       0   0  \n",
       "\n",
       "[5 rows x 12033 columns]"
      ]
     },
     "execution_count": 4,
     "metadata": {},
     "output_type": "execute_result"
    }
   ],
   "source": [
    "#Count vector for dadjokes\n",
    "cvec_dj = CountVectorizer(stop_words='english')\n",
    "Xcv_dj = cvec_dj.fit_transform(X_dj,y_dj)\n",
    "Xcv_djdf = pd.DataFrame(Xcv_dj.todense(),columns=cvec_dj.get_feature_names())\n",
    "Xcv_djdf.head()"
   ]
  },
  {
   "cell_type": "code",
   "execution_count": 5,
   "id": "95a50ba7",
   "metadata": {},
   "outputs": [
    {
     "data": {
      "text/html": [
       "<div>\n",
       "<style scoped>\n",
       "    .dataframe tbody tr th:only-of-type {\n",
       "        vertical-align: middle;\n",
       "    }\n",
       "\n",
       "    .dataframe tbody tr th {\n",
       "        vertical-align: top;\n",
       "    }\n",
       "\n",
       "    .dataframe thead th {\n",
       "        text-align: right;\n",
       "    }\n",
       "</style>\n",
       "<table border=\"1\" class=\"dataframe\">\n",
       "  <thead>\n",
       "    <tr style=\"text-align: right;\">\n",
       "      <th></th>\n",
       "      <th>00</th>\n",
       "      <th>000</th>\n",
       "      <th>00000000000000000000000000000001</th>\n",
       "      <th>00100000</th>\n",
       "      <th>003</th>\n",
       "      <th>006</th>\n",
       "      <th>00653875954571505539843239754513915896150297878399377056071435169747221107988</th>\n",
       "      <th>007</th>\n",
       "      <th>01</th>\n",
       "      <th>01100001</th>\n",
       "      <th>...</th>\n",
       "      <th>𝗺𝗶𝘀𝗹𝗲𝗮𝗱𝗶𝗻𝗴</th>\n",
       "      <th>𝗺𝗼𝗿𝗻𝗶𝗻𝗴</th>\n",
       "      <th>𝘀𝗮𝘆</th>\n",
       "      <th>𝘀𝗼𝘂𝗿𝗰𝗲𝘀</th>\n",
       "      <th>𝘀𝘁𝗮𝘁𝗲𝗱</th>\n",
       "      <th>𝘁𝗴𝗲𝘂𝗿</th>\n",
       "      <th>𝘁𝗵𝗲</th>\n",
       "      <th>𝘁𝗵𝗶𝘀</th>\n",
       "      <th>𝘁𝗼</th>\n",
       "      <th>𝘄𝗼𝗿𝗸𝗲𝗿</th>\n",
       "    </tr>\n",
       "  </thead>\n",
       "  <tbody>\n",
       "    <tr>\n",
       "      <th>0</th>\n",
       "      <td>0</td>\n",
       "      <td>0</td>\n",
       "      <td>0</td>\n",
       "      <td>0</td>\n",
       "      <td>0</td>\n",
       "      <td>0</td>\n",
       "      <td>0</td>\n",
       "      <td>0</td>\n",
       "      <td>0</td>\n",
       "      <td>0</td>\n",
       "      <td>...</td>\n",
       "      <td>0</td>\n",
       "      <td>0</td>\n",
       "      <td>0</td>\n",
       "      <td>0</td>\n",
       "      <td>0</td>\n",
       "      <td>0</td>\n",
       "      <td>0</td>\n",
       "      <td>0</td>\n",
       "      <td>0</td>\n",
       "      <td>0</td>\n",
       "    </tr>\n",
       "    <tr>\n",
       "      <th>1</th>\n",
       "      <td>0</td>\n",
       "      <td>0</td>\n",
       "      <td>0</td>\n",
       "      <td>0</td>\n",
       "      <td>0</td>\n",
       "      <td>0</td>\n",
       "      <td>0</td>\n",
       "      <td>0</td>\n",
       "      <td>0</td>\n",
       "      <td>0</td>\n",
       "      <td>...</td>\n",
       "      <td>0</td>\n",
       "      <td>0</td>\n",
       "      <td>0</td>\n",
       "      <td>0</td>\n",
       "      <td>0</td>\n",
       "      <td>0</td>\n",
       "      <td>0</td>\n",
       "      <td>0</td>\n",
       "      <td>0</td>\n",
       "      <td>0</td>\n",
       "    </tr>\n",
       "    <tr>\n",
       "      <th>2</th>\n",
       "      <td>0</td>\n",
       "      <td>0</td>\n",
       "      <td>0</td>\n",
       "      <td>0</td>\n",
       "      <td>0</td>\n",
       "      <td>0</td>\n",
       "      <td>0</td>\n",
       "      <td>0</td>\n",
       "      <td>0</td>\n",
       "      <td>0</td>\n",
       "      <td>...</td>\n",
       "      <td>0</td>\n",
       "      <td>0</td>\n",
       "      <td>0</td>\n",
       "      <td>0</td>\n",
       "      <td>0</td>\n",
       "      <td>0</td>\n",
       "      <td>0</td>\n",
       "      <td>0</td>\n",
       "      <td>0</td>\n",
       "      <td>0</td>\n",
       "    </tr>\n",
       "    <tr>\n",
       "      <th>3</th>\n",
       "      <td>0</td>\n",
       "      <td>0</td>\n",
       "      <td>0</td>\n",
       "      <td>0</td>\n",
       "      <td>0</td>\n",
       "      <td>0</td>\n",
       "      <td>0</td>\n",
       "      <td>0</td>\n",
       "      <td>0</td>\n",
       "      <td>0</td>\n",
       "      <td>...</td>\n",
       "      <td>0</td>\n",
       "      <td>0</td>\n",
       "      <td>0</td>\n",
       "      <td>0</td>\n",
       "      <td>0</td>\n",
       "      <td>0</td>\n",
       "      <td>0</td>\n",
       "      <td>0</td>\n",
       "      <td>0</td>\n",
       "      <td>0</td>\n",
       "    </tr>\n",
       "    <tr>\n",
       "      <th>4</th>\n",
       "      <td>0</td>\n",
       "      <td>0</td>\n",
       "      <td>0</td>\n",
       "      <td>0</td>\n",
       "      <td>0</td>\n",
       "      <td>0</td>\n",
       "      <td>0</td>\n",
       "      <td>0</td>\n",
       "      <td>0</td>\n",
       "      <td>0</td>\n",
       "      <td>...</td>\n",
       "      <td>0</td>\n",
       "      <td>0</td>\n",
       "      <td>0</td>\n",
       "      <td>0</td>\n",
       "      <td>0</td>\n",
       "      <td>0</td>\n",
       "      <td>0</td>\n",
       "      <td>0</td>\n",
       "      <td>0</td>\n",
       "      <td>0</td>\n",
       "    </tr>\n",
       "  </tbody>\n",
       "</table>\n",
       "<p>5 rows × 14222 columns</p>\n",
       "</div>"
      ],
      "text/plain": [
       "   00  000  00000000000000000000000000000001  00100000  003  006  \\\n",
       "0   0    0                                 0         0    0    0   \n",
       "1   0    0                                 0         0    0    0   \n",
       "2   0    0                                 0         0    0    0   \n",
       "3   0    0                                 0         0    0    0   \n",
       "4   0    0                                 0         0    0    0   \n",
       "\n",
       "   00653875954571505539843239754513915896150297878399377056071435169747221107988  \\\n",
       "0                                                  0                               \n",
       "1                                                  0                               \n",
       "2                                                  0                               \n",
       "3                                                  0                               \n",
       "4                                                  0                               \n",
       "\n",
       "   007  01  01100001  ...  𝗺𝗶𝘀𝗹𝗲𝗮𝗱𝗶𝗻𝗴  𝗺𝗼𝗿𝗻𝗶𝗻𝗴  𝘀𝗮𝘆  𝘀𝗼𝘂𝗿𝗰𝗲𝘀  𝘀𝘁𝗮𝘁𝗲𝗱  𝘁𝗴𝗲𝘂𝗿  \\\n",
       "0    0   0         0  ...           0        0    0        0       0      0   \n",
       "1    0   0         0  ...           0        0    0        0       0      0   \n",
       "2    0   0         0  ...           0        0    0        0       0      0   \n",
       "3    0   0         0  ...           0        0    0        0       0      0   \n",
       "4    0   0         0  ...           0        0    0        0       0      0   \n",
       "\n",
       "   𝘁𝗵𝗲  𝘁𝗵𝗶𝘀  𝘁𝗼  𝘄𝗼𝗿𝗸𝗲𝗿  \n",
       "0    0     0   0       0  \n",
       "1    0     0   0       0  \n",
       "2    0     0   0       0  \n",
       "3    0     0   0       0  \n",
       "4    0     0   0       0  \n",
       "\n",
       "[5 rows x 14222 columns]"
      ]
     },
     "execution_count": 5,
     "metadata": {},
     "output_type": "execute_result"
    }
   ],
   "source": [
    "#Count vector for antijokes\n",
    "cvec_aj = CountVectorizer(stop_words='english')\n",
    "Xcv_aj = cvec_aj.fit_transform(X_aj,y_aj)\n",
    "Xcv_ajdf = pd.DataFrame(Xcv_aj.todense(),columns=cvec_aj.get_feature_names())\n",
    "Xcv_ajdf.head()"
   ]
  },
  {
   "cell_type": "code",
   "execution_count": 6,
   "id": "a84fcf0e",
   "metadata": {},
   "outputs": [],
   "source": [
    "#top 50 and 100 most common antijoke words and dadjoke words\n",
    "\n",
    "top50_aj = list(Xcv_ajdf.sum().sort_values(ascending=False).head(50).index)\n",
    "top50_dj = list(Xcv_djdf.sum().sort_values(ascending=False).head(50).index)\n",
    "top100_aj = list(Xcv_ajdf.sum().sort_values(ascending=False).head(100).index)\n",
    "top100_dj = list(Xcv_djdf.sum().sort_values(ascending=False).head(100).index)\n"
   ]
  },
  {
   "cell_type": "code",
   "execution_count": 7,
   "id": "ad2518c3",
   "metadata": {},
   "outputs": [],
   "source": [
    "#Hard code for giveaway words\n",
    "# EX. \"I'm not a dad\", \"My son told me this one\", \"This is an antijoke\"\n",
    "stop_dad = ['dad','son','daughter','son','anti','antijokes','antijoke']\n",
    "english_stop = list(stopwords.words('english')) + stop_dad"
   ]
  },
  {
   "cell_type": "code",
   "execution_count": 8,
   "id": "f1070e89",
   "metadata": {},
   "outputs": [],
   "source": [
    "#Make stop list for common words in the top 50 and 100\n",
    "\n",
    "stop_50, stop_100 = stop_dad[:], stop_dad[:]\n",
    "for aj in top50_aj:\n",
    "    if aj in top50_dj:\n",
    "        stop_50.append(aj)\n",
    "for aj in top100_aj:\n",
    "    if aj in top100_dj:\n",
    "        stop_100.append(aj)\n",
    "        "
   ]
  },
  {
   "cell_type": "markdown",
   "id": "c7ef8faf",
   "metadata": {},
   "source": [
    "# PIPELINE\n",
    "\n",
    "The next two cells will have:\n",
    " - Cell 1. The final tuned paramaters for the pipelines\n",
    " - Cell 2. The last set of tuning for the gridsearch. \n",
    " \n",
    "A bayesian search was also performed for some but did not accomplish much. \n",
    "\n",
    "In order for below, these make up:\n",
    " - Naive Bayes with Count Vectorization\n",
    " - Naive Baryes with Tf-idf\n",
    " - Logistic Regressino with Tf-idf\n",
    " - Decision Tree with with Tf-idf\n",
    " - Random Forest with Tf-idf\n",
    "\n",
    "Only non-tokened had full gridsearches performed, and then they were applied to the different tokenization sets. This is due to limited CPU time to perform some of the fits. \n",
    "\n",
    "The final set is applied to all three tokenizations (none, Lemma, Porter Stem) and results are examined. "
   ]
  },
  {
   "cell_type": "code",
   "execution_count": 9,
   "id": "a95fcea4",
   "metadata": {},
   "outputs": [],
   "source": [
    "#Naive Bayes with Count Vectorization\n",
    "gs_pipe = Pipeline([\n",
    "    ('cvec', CountVectorizer() ),\n",
    "    ('nb', MultinomialNB())\n",
    "])\n",
    "gs_params = {'cvec__min_df': [2],\n",
    " 'cvec__ngram_range': [(1, 6)],\n",
    " 'cvec__stop_words': [stop_dad]\n",
    "    }\n",
    "\n",
    "#Naive Baryes with Tf-idf\n",
    "gstf_pipe = Pipeline([\n",
    "    ('tvec', TfidfVectorizer()),\n",
    "    ('nb', MultinomialNB() )\n",
    "])\n",
    "gstf_params = {'tvec__min_df': [2],\n",
    " 'tvec__ngram_range': [(1, 2)],\n",
    " 'tvec__stop_words': [stop_dad]\n",
    "              }\n",
    "#Logistic Regressino with Tf-idf\n",
    "gslr_pipe = Pipeline([\n",
    "    ('tvec', TfidfVectorizer()),\n",
    "    ('lr', LogisticRegression(random_state=42))\n",
    "])\n",
    "gslr_params = {\n",
    "    'lr__max_iter': [100000],\n",
    " 'lr__penalty': ['none'],\n",
    " 'lr__solver': ['sag'],\n",
    " 'tvec__min_df': [1],\n",
    " 'tvec__ngram_range': [(1, 3)],\n",
    " 'tvec__stop_words': [stop_dad]\n",
    "}\n",
    "\n",
    "#Decision Tree with with Tf-idf\n",
    "gsdt_pipe = Pipeline([\n",
    "    ('tvec', TfidfVectorizer()),\n",
    "    ('dt', DecisionTreeClassifier(random_state=42))\n",
    "])\n",
    "gsdt_params = {'dt__max_depth': [45],\n",
    " 'dt__min_samples_leaf': [1],\n",
    " 'dt__min_samples_split': [5],\n",
    " 'tvec__min_df': [3],\n",
    " 'tvec__ngram_range': [(1, 6)],\n",
    " 'tvec__stop_words': [stop_dad]}\n",
    "\n",
    "#Random Forest with Tf-idf\n",
    "gsrf_pipe = Pipeline([\n",
    "    ('tvec', TfidfVectorizer()),\n",
    "    ('rf', RandomForestClassifier(random_state=42))\n",
    "])\n",
    "gsrf_params={'rf__max_depth': [30],\n",
    " 'rf__max_features': ['auto'],\n",
    " 'rf__min_samples_leaf': [2],\n",
    " 'rf__min_samples_split': [5],\n",
    " 'rf__n_estimators': [400],\n",
    " 'tvec__min_df':[4],\n",
    " 'tvec__ngram_range': [(1, 6)],\n",
    " 'tvec__stop_words': [stop_dad]}\n",
    "\n"
   ]
  },
  {
   "cell_type": "code",
   "execution_count": null,
   "id": "d72af699",
   "metadata": {},
   "outputs": [],
   "source": [
    "#THESE ARE IN THE SAME ORDER\n",
    "\n",
    "#    Naive Bayes with Count Vectorization\n",
    "#    Naive Baryes with Tf-idf\n",
    "#    Logistic Regressino with Tf-idf\n",
    "#    Decision Tree with with Tf-idf\n",
    "#    Random Forest with Tf-idf\n",
    "\n",
    "\n",
    "# pipe_cvnb_params = {\n",
    "#     'cvec__min_df': [2,3,4,5,6,7],\n",
    "#     'cvec__stop_words': [stop_dad],\n",
    "#     'cvec__ngram_range': [(1,6)]\n",
    "# }\n",
    "\n",
    "# pipe_tvec_params = {\n",
    "#     'tvec__stop_words': [stop_dad],\n",
    "#     'tvec__min_df': [1, 2, 3],\n",
    "#     'tvec__ngram_range': [(1,1), (1,2),(1,3)]\n",
    "# }\n",
    "\n",
    "# pipe_logcv_params = {\n",
    "#     'tvec__stop_words': [stop_dad],\n",
    "#     'tvec__min_df': [1, 2, 3],\n",
    "#     'tvec__ngram_range': [(1,1), (1,2),(1,3)],\n",
    "#     'lr__penalty': ['none'],\n",
    "#     'lr__max_iter': [100000],\n",
    "#     'lr__solver':['sag']\n",
    "# }\n",
    "\n",
    "# dt_params = {'tvec__stop_words': [stop_dad],\n",
    "#              'tvec__min_df': [1,3,5,7],\n",
    "#              'tvec__ngram_range': [(1,6)],\n",
    "#              'dt__max_depth': [20,25,30,35,40,45,60],\n",
    "#              'dt__min_samples_split': [5, 10, 15, 20, 25, 30, 35,40,45,50],\n",
    "#              'dt__min_samples_leaf': [1,2],\n",
    "# }\n",
    "\n",
    "# rf_params = {\n",
    "#              'tvec__stop_words': [stop_dad],\n",
    "#              'tvec__min_df': [3,4],\n",
    "#              'tvec__ngram_range': [(1,6)],\n",
    "#              'rf__n_estimators': [200,300,400],\n",
    "#              'rf__max_depth': [30],\n",
    "#              'rf__min_samples_split': [4,5,6,7],\n",
    "#              'rf__min_samples_leaf': [2],\n",
    "#              'rf__max_features': ['auto']\n",
    "# }\n"
   ]
  },
  {
   "cell_type": "code",
   "execution_count": 10,
   "id": "5a7d30d8",
   "metadata": {},
   "outputs": [],
   "source": [
    "#lemma train/test set\n",
    "Xlem = jokes_all['lemon']\n",
    "ylem = jokes_all['dad']\n",
    "Xlem_train, Xlem_test, ylem_train, ylem_test = train_test_split(Xlem,ylem,test_size=0.2,random_state=42)\n"
   ]
  },
  {
   "cell_type": "code",
   "execution_count": 11,
   "id": "108b7bb2",
   "metadata": {},
   "outputs": [],
   "source": [
    "#Porter stem train/test set\n",
    "Xport = jokes_all['porter']\n",
    "yport = jokes_all['dad']\n",
    "\n",
    "Xport_train, Xport_test, yport_train, yport_test = train_test_split(Xport,yport,test_size=0.2,random_state=42)\n"
   ]
  },
  {
   "cell_type": "code",
   "execution_count": 12,
   "id": "7518f506",
   "metadata": {},
   "outputs": [],
   "source": [
    "#Function for displaying and saving the results\n",
    "def plot_cfm(fit,xtrain,ytrain,xtest,ytest):\n",
    "    print(fit.score(xtrain,ytrain),fit.score(xtest,ytest))\n",
    "    preds = fit.predict(xtest)\n",
    "\n",
    "    tn, fp, fn, tp = confusion_matrix(ytest, preds).ravel()\n",
    "    plot_confusion_matrix(fit, xtest, ytest, cmap='Blues');\n",
    "    return [fit.score(xtrain,ytrain)],[fit.score(xtest,ytest)]"
   ]
  },
  {
   "cell_type": "code",
   "execution_count": 13,
   "id": "cc77b9d3",
   "metadata": {},
   "outputs": [],
   "source": [
    "#dataframe for analyzing fit results\n",
    "df_fitresults = pd.DataFrame()"
   ]
  },
  {
   "cell_type": "markdown",
   "id": "5de0559a",
   "metadata": {},
   "source": [
    "# FITTING MODELS\n",
    "\n",
    "With pipelines formed, the following 15 cells do fits and save the results in this order:\n",
    "No Token - \n",
    " - Naive Bayes with Count Vectorization\n",
    " - Naive Baryes with Tf-idf\n",
    " - Logistic Regressino with Tf-idf\n",
    " - Decision Tree with with Tf-idf\n",
    " - Random Forest with Tf-idf\n",
    "\n",
    "Lemmatized - \n",
    " - Naive Bayes with Count Vectorization\n",
    " - Naive Baryes with Tf-idf\n",
    " - Logistic Regressino with Tf-idf\n",
    " - Decision Tree with with Tf-idf\n",
    " - Random Forest with Tf-idf\n",
    "\n",
    "Porter Stemmed - \n",
    " - Naive Bayes with Count Vectorization\n",
    " - Naive Baryes with Tf-idf\n",
    " - Logistic Regressino with Tf-idf\n",
    " - Decision Tree with with Tf-idf\n",
    " - Random Forest with Tf-idf\n",
    "\n",
    "Fit results are added to `df_fitresults`\n"
   ]
  },
  {
   "cell_type": "code",
   "execution_count": 14,
   "id": "7d7d482b",
   "metadata": {},
   "outputs": [
    {
     "name": "stdout",
     "output_type": "stream",
     "text": [
      "0.876926259178819 0.707196029776675\n"
     ]
    },
    {
     "data": {
      "image/png": "[encoded data removed]",
      "text/plain": [
       "<Figure size 432x288 with 2 Axes>"
      ]
     },
     "metadata": {
      "needs_background": "light"
     },
     "output_type": "display_data"
    }
   ],
   "source": [
    "results = {'fitter':['nb_cv'],'token':['no']}\n",
    "\n",
    "gs = GridSearchCV(gs_pipe,gs_params,cv =5)\n",
    "gs.fit(X_train,y_train)\n",
    "results['train'],results['test']=plot_cfm(gs,X_train,y_train,X_test,y_test)\n",
    "df_fitresults = pd.concat([df_fitresults,pd.DataFrame(results,index=None)])"
   ]
  },
  {
   "cell_type": "code",
   "execution_count": null,
   "id": "b6d341cd",
   "metadata": {},
   "outputs": [],
   "source": []
  },
  {
   "cell_type": "code",
   "execution_count": 15,
   "id": "25dc446f",
   "metadata": {},
   "outputs": [
    {
     "name": "stdout",
     "output_type": "stream",
     "text": [
      "0.9053676698727893 0.7303556658395368\n"
     ]
    },
    {
     "data": {
      "image/png": "[encoded data removed]",
      "text/plain": [
       "<Figure size 432x288 with 2 Axes>"
      ]
     },
     "metadata": {
      "needs_background": "light"
     },
     "output_type": "display_data"
    }
   ],
   "source": [
    "results = {'fitter':['nb_tf'],'token':['no']}\n",
    "\n",
    "gstf = GridSearchCV(gstf_pipe,gstf_params,cv =5)\n",
    "gstf.fit(X_train,y_train)\n",
    "results['train'],results['test']=plot_cfm(gstf,X_train,y_train,X_test,y_test)\n",
    "df_fitresults = pd.concat([df_fitresults,pd.DataFrame(results,index=None)])"
   ]
  },
  {
   "cell_type": "code",
   "execution_count": 16,
   "id": "dfeb8419",
   "metadata": {},
   "outputs": [
    {
     "name": "stdout",
     "output_type": "stream",
     "text": [
      "0.9989657668838556 0.7440033085194375\n"
     ]
    },
    {
     "data": {
      "image/png": "[encoded data removed]",
      "text/plain": [
       "<Figure size 432x288 with 2 Axes>"
      ]
     },
     "metadata": {
      "needs_background": "light"
     },
     "output_type": "display_data"
    }
   ],
   "source": [
    "results = {'fitter':['logreg'],'token':['no']}\n",
    "\n",
    "gslr = GridSearchCV(gslr_pipe,gslr_params,cv =5)\n",
    "gslr.fit(X_train,y_train)\n",
    "results['train'],results['test']=plot_cfm(gslr,X_train,y_train,X_test,y_test)\n",
    "df_fitresults = pd.concat([df_fitresults,pd.DataFrame(results,index=None)])"
   ]
  },
  {
   "cell_type": "code",
   "execution_count": 17,
   "id": "d215df86",
   "metadata": {},
   "outputs": [
    {
     "name": "stdout",
     "output_type": "stream",
     "text": [
      "0.8874754369634916 0.6451612903225806\n"
     ]
    },
    {
     "data": {
      "image/png": "[encoded data removed]",
      "text/plain": [
       "<Figure size 432x288 with 2 Axes>"
      ]
     },
     "metadata": {
      "needs_background": "light"
     },
     "output_type": "display_data"
    }
   ],
   "source": [
    "results = {'fitter':['dectree'],'token':['no']}\n",
    "\n",
    "gsdt = GridSearchCV(gsdt_pipe,gsdt_params,cv =5)\n",
    "gsdt.fit(X_train,y_train)\n",
    "results['train'],results['test']=plot_cfm(gsdt,X_train,y_train,X_test,y_test)\n",
    "df_fitresults = pd.concat([df_fitresults,pd.DataFrame(results,index=None)])"
   ]
  },
  {
   "cell_type": "code",
   "execution_count": 18,
   "id": "0b6c0d81",
   "metadata": {},
   "outputs": [
    {
     "name": "stdout",
     "output_type": "stream",
     "text": [
      "0.7875685179439446 0.7138130686517783\n"
     ]
    },
    {
     "data": {
      "image/png": "[encoded data removed]",
      "text/plain": [
       "<Figure size 432x288 with 2 Axes>"
      ]
     },
     "metadata": {
      "needs_background": "light"
     },
     "output_type": "display_data"
    }
   ],
   "source": [
    "results = {'fitter':['randfor'],'token':['no']}\n",
    "\n",
    "gsrf = GridSearchCV(gsrf_pipe,gsrf_params,cv =5)\n",
    "gsrf.fit(X_train,y_train)\n",
    "results['train'],results['test']=plot_cfm(gsrf,X_train,y_train,X_test,y_test)\n",
    "df_fitresults = pd.concat([df_fitresults,pd.DataFrame(results,index=None)])"
   ]
  },
  {
   "cell_type": "code",
   "execution_count": 19,
   "id": "deee1d62",
   "metadata": {},
   "outputs": [
    {
     "data": {
      "text/html": [
       "<div>\n",
       "<style scoped>\n",
       "    .dataframe tbody tr th:only-of-type {\n",
       "        vertical-align: middle;\n",
       "    }\n",
       "\n",
       "    .dataframe tbody tr th {\n",
       "        vertical-align: top;\n",
       "    }\n",
       "\n",
       "    .dataframe thead th {\n",
       "        text-align: right;\n",
       "    }\n",
       "</style>\n",
       "<table border=\"1\" class=\"dataframe\">\n",
       "  <thead>\n",
       "    <tr style=\"text-align: right;\">\n",
       "      <th></th>\n",
       "      <th>fitter</th>\n",
       "      <th>token</th>\n",
       "      <th>train</th>\n",
       "      <th>test</th>\n",
       "    </tr>\n",
       "  </thead>\n",
       "  <tbody>\n",
       "    <tr>\n",
       "      <th>0</th>\n",
       "      <td>nb_cv</td>\n",
       "      <td>no</td>\n",
       "      <td>0.876926</td>\n",
       "      <td>0.707196</td>\n",
       "    </tr>\n",
       "    <tr>\n",
       "      <th>0</th>\n",
       "      <td>nb_tf</td>\n",
       "      <td>no</td>\n",
       "      <td>0.905368</td>\n",
       "      <td>0.730356</td>\n",
       "    </tr>\n",
       "    <tr>\n",
       "      <th>0</th>\n",
       "      <td>logreg</td>\n",
       "      <td>no</td>\n",
       "      <td>0.998966</td>\n",
       "      <td>0.744003</td>\n",
       "    </tr>\n",
       "    <tr>\n",
       "      <th>0</th>\n",
       "      <td>dectree</td>\n",
       "      <td>no</td>\n",
       "      <td>0.887475</td>\n",
       "      <td>0.645161</td>\n",
       "    </tr>\n",
       "    <tr>\n",
       "      <th>0</th>\n",
       "      <td>randfor</td>\n",
       "      <td>no</td>\n",
       "      <td>0.787569</td>\n",
       "      <td>0.713813</td>\n",
       "    </tr>\n",
       "  </tbody>\n",
       "</table>\n",
       "</div>"
      ],
      "text/plain": [
       "    fitter token     train      test\n",
       "0    nb_cv    no  0.876926  0.707196\n",
       "0    nb_tf    no  0.905368  0.730356\n",
       "0   logreg    no  0.998966  0.744003\n",
       "0  dectree    no  0.887475  0.645161\n",
       "0  randfor    no  0.787569  0.713813"
      ]
     },
     "execution_count": 19,
     "metadata": {},
     "output_type": "execute_result"
    }
   ],
   "source": [
    "df_fitresults"
   ]
  },
  {
   "cell_type": "code",
   "execution_count": 20,
   "id": "7620fd4d",
   "metadata": {},
   "outputs": [
    {
     "name": "stdout",
     "output_type": "stream",
     "text": [
      "0.879304995345951 0.7133995037220844\n"
     ]
    },
    {
     "data": {
      "image/png": "[encoded data removed]",
      "text/plain": [
       "<Figure size 432x288 with 2 Axes>"
      ]
     },
     "metadata": {
      "needs_background": "light"
     },
     "output_type": "display_data"
    }
   ],
   "source": [
    "results = {'fitter':['nb_cv'],'token':['lem']}\n",
    "\n",
    "gs_lem = GridSearchCV(gs_pipe,gs_params,cv =5)\n",
    "gs_lem.fit(Xlem_train,ylem_train)\n",
    "results['train'],results['test']=plot_cfm(gs_lem,Xlem_train,ylem_train,Xlem_test,ylem_test)\n",
    "df_fitresults = pd.concat([df_fitresults,pd.DataFrame(results,index=None)])"
   ]
  },
  {
   "cell_type": "code",
   "execution_count": 21,
   "id": "65b89d32",
   "metadata": {},
   "outputs": [
    {
     "name": "stdout",
     "output_type": "stream",
     "text": [
      "0.9048505533147171 0.7224979321753515\n"
     ]
    },
    {
     "data": {
      "image/png": "[encoded data removed]",
      "text/plain": [
       "<Figure size 432x288 with 2 Axes>"
      ]
     },
     "metadata": {
      "needs_background": "light"
     },
     "output_type": "display_data"
    }
   ],
   "source": [
    "results = {'fitter':['nb_tf'],'token':['lem']}\n",
    "\n",
    "gstf_lem = GridSearchCV(gstf_pipe,gstf_params,cv =5)\n",
    "gstf_lem.fit(Xlem_train,ylem_train)\n",
    "results['train'],results['test']=plot_cfm(gstf_lem,Xlem_train,ylem_train,Xlem_test,ylem_test)\n",
    "df_fitresults = pd.concat([df_fitresults,pd.DataFrame(results,index=None)])"
   ]
  },
  {
   "cell_type": "code",
   "execution_count": 22,
   "id": "36f9442a",
   "metadata": {},
   "outputs": [
    {
     "name": "stdout",
     "output_type": "stream",
     "text": [
      "0.99906919019547 0.7411083540115798\n"
     ]
    },
    {
     "data": {
      "image/png": "[encoded data removed]",
      "text/plain": [
       "<Figure size 432x288 with 2 Axes>"
      ]
     },
     "metadata": {
      "needs_background": "light"
     },
     "output_type": "display_data"
    }
   ],
   "source": [
    "results = {'fitter':['logreg'],'token':['lem']}\n",
    "\n",
    "gslr_lem = GridSearchCV(gslr_pipe,gslr_params,cv =5)\n",
    "gslr_lem.fit(Xlem_train,ylem_train)\n",
    "results['train'],results['test']=plot_cfm(gslr_lem,Xlem_train,ylem_train,Xlem_test,ylem_test)\n",
    "df_fitresults = pd.concat([df_fitresults,pd.DataFrame(results,index=None)])"
   ]
  },
  {
   "cell_type": "code",
   "execution_count": 23,
   "id": "44d729a3",
   "metadata": {},
   "outputs": [
    {
     "name": "stdout",
     "output_type": "stream",
     "text": [
      "0.8914055228048402 0.6513647642679901\n"
     ]
    },
    {
     "data": {
      "image/png": "[encoded data removed]",
      "text/plain": [
       "<Figure size 432x288 with 2 Axes>"
      ]
     },
     "metadata": {
      "needs_background": "light"
     },
     "output_type": "display_data"
    }
   ],
   "source": [
    "results = {'fitter':['dectree'],'token':['lem']}\n",
    "\n",
    "gsdt_lem = GridSearchCV(gsdt_pipe,gsdt_params,cv =5)\n",
    "gsdt_lem.fit(Xlem_train,ylem_train)\n",
    "results['train'],results['test']=plot_cfm(gsdt_lem,Xlem_train,ylem_train,Xlem_test,ylem_test)\n",
    "df_fitresults = pd.concat([df_fitresults,pd.DataFrame(results,index=None)])"
   ]
  },
  {
   "cell_type": "code",
   "execution_count": 24,
   "id": "023508f9",
   "metadata": {},
   "outputs": [
    {
     "name": "stdout",
     "output_type": "stream",
     "text": [
      "0.7895335608646189 0.705955334987593\n"
     ]
    },
    {
     "data": {
      "image/png": "[encoded data removed]",
      "text/plain": [
       "<Figure size 432x288 with 2 Axes>"
      ]
     },
     "metadata": {
      "needs_background": "light"
     },
     "output_type": "display_data"
    }
   ],
   "source": [
    "results = {'fitter':['randfor'],'token':['lem']}\n",
    "\n",
    "gsrf_lem = GridSearchCV(gsrf_pipe,gsrf_params,cv =5)\n",
    "gsrf_lem.fit(Xlem_train,ylem_train)\n",
    "results['train'],results['test']=plot_cfm(gsrf_lem,Xlem_train,ylem_train,Xlem_test,ylem_test)\n",
    "df_fitresults = pd.concat([df_fitresults,pd.DataFrame(results,index=None)])"
   ]
  },
  {
   "cell_type": "code",
   "execution_count": null,
   "id": "4838edc1",
   "metadata": {},
   "outputs": [],
   "source": []
  },
  {
   "cell_type": "code",
   "execution_count": null,
   "id": "5cbde9c1",
   "metadata": {},
   "outputs": [],
   "source": []
  },
  {
   "cell_type": "code",
   "execution_count": 25,
   "id": "a801aa3d",
   "metadata": {},
   "outputs": [
    {
     "name": "stdout",
     "output_type": "stream",
     "text": [
      "0.8743406763884579 0.7043010752688172\n"
     ]
    },
    {
     "data": {
      "image/png": "[encoded data removed]",
      "text/plain": [
       "<Figure size 432x288 with 2 Axes>"
      ]
     },
     "metadata": {
      "needs_background": "light"
     },
     "output_type": "display_data"
    }
   ],
   "source": [
    "results = {'fitter':['nb_cv'],'token':['port']}\n",
    "\n",
    "gs_port = GridSearchCV(gs_pipe,gs_params,cv =5)\n",
    "gs_port.fit(Xport_train,yport_train)\n",
    "results['train'],results['test']=plot_cfm(gs_port,Xport_train,yport_train,Xport_test,yport_test)\n",
    "df_fitresults = pd.concat([df_fitresults,pd.DataFrame(results,index=None)])"
   ]
  },
  {
   "cell_type": "code",
   "execution_count": 26,
   "id": "f4dd6837",
   "metadata": {},
   "outputs": [
    {
     "name": "stdout",
     "output_type": "stream",
     "text": [
      "0.9052642465611749 0.7241521918941274\n"
     ]
    },
    {
     "data": {
      "image/png": "[encoded data removed]",
      "text/plain": [
       "<Figure size 432x288 with 2 Axes>"
      ]
     },
     "metadata": {
      "needs_background": "light"
     },
     "output_type": "display_data"
    }
   ],
   "source": [
    "results = {'fitter':['nb_tf'],'token':['port']}\n",
    "\n",
    "gstf_port = GridSearchCV(gstf_pipe,gstf_params,cv =5)\n",
    "gstf_port.fit(Xport_train,yport_train)\n",
    "results['train'],results['test']=plot_cfm(gstf_port,Xport_train,yport_train,Xport_test,yport_test)\n",
    "df_fitresults = pd.concat([df_fitresults,pd.DataFrame(results,index=None)])"
   ]
  },
  {
   "cell_type": "code",
   "execution_count": 27,
   "id": "a7e8092b",
   "metadata": {},
   "outputs": [
    {
     "name": "stdout",
     "output_type": "stream",
     "text": [
      "0.99906919019547 0.73904052936311\n"
     ]
    },
    {
     "data": {
      "image/png": "[encoded data removed]",
      "text/plain": [
       "<Figure size 432x288 with 2 Axes>"
      ]
     },
     "metadata": {
      "needs_background": "light"
     },
     "output_type": "display_data"
    }
   ],
   "source": [
    "results = {'fitter':['logreg'],'token':['port']}\n",
    "\n",
    "gslr_port = GridSearchCV(gslr_pipe,gslr_params,cv =5)\n",
    "gslr_port.fit(Xport_train,yport_train)\n",
    "results['train'],results['test']=plot_cfm(gslr_port,Xport_train,yport_train,Xport_test,yport_test)\n",
    "df_fitresults = pd.concat([df_fitresults,pd.DataFrame(results,index=None)])"
   ]
  },
  {
   "cell_type": "code",
   "execution_count": 28,
   "id": "70e8f778",
   "metadata": {},
   "outputs": [
    {
     "name": "stdout",
     "output_type": "stream",
     "text": [
      "0.886648050470576 0.6488833746898263\n"
     ]
    },
    {
     "data": {
      "image/png": "[encoded data removed]",
      "text/plain": [
       "<Figure size 432x288 with 2 Axes>"
      ]
     },
     "metadata": {
      "needs_background": "light"
     },
     "output_type": "display_data"
    }
   ],
   "source": [
    "results = {'fitter':['dectree'],'token':['port']}\n",
    "\n",
    "gsdt_port = GridSearchCV(gsdt_pipe,gsdt_params,cv =5)\n",
    "gsdt_port.fit(Xport_train,yport_train)\n",
    "results['train'],results['test']=plot_cfm(gsdt_port,Xport_train,yport_train,Xport_test,yport_test)\n",
    "df_fitresults = pd.concat([df_fitresults,pd.DataFrame(results,index=None)])"
   ]
  },
  {
   "cell_type": "code",
   "execution_count": 29,
   "id": "7561be15",
   "metadata": {},
   "outputs": [
    {
     "name": "stdout",
     "output_type": "stream",
     "text": [
      "0.7873616713207157 0.7158808933002482\n"
     ]
    },
    {
     "data": {
      "image/png": "[encoded data removed]",
      "text/plain": [
       "<Figure size 432x288 with 2 Axes>"
      ]
     },
     "metadata": {
      "needs_background": "light"
     },
     "output_type": "display_data"
    }
   ],
   "source": [
    "results = {'fitter':['randfor'],'token':['port']}\n",
    "\n",
    "gsrf_port = GridSearchCV(gsrf_pipe,gsrf_params,cv =5)\n",
    "gsrf_port.fit(Xport_train,yport_train)\n",
    "results['train'],results['test']=plot_cfm(gsrf_port,Xport_train,yport_train,Xport_test,yport_test)\n",
    "df_fitresults = pd.concat([df_fitresults,pd.DataFrame(results,index=None)])"
   ]
  },
  {
   "cell_type": "markdown",
   "id": "860adaa9",
   "metadata": {},
   "source": [
    "# Regularized Logistic Regression\n",
    "The immediate cells process the data to perform Regularized Logistic Regression for the three token sets. First each set undergoes:\n",
    " - Train test split with addition of new features\n",
    " - Count vectorization to which my computer can handle (memory not enough)\n",
    " - Drop index to handle issues with trying to recombine after vectorization\n"
   ]
  },
  {
   "cell_type": "code",
   "execution_count": 30,
   "id": "f4e858e9",
   "metadata": {},
   "outputs": [],
   "source": [
    "#standard scaler for use\n",
    "ss = StandardScaler(with_mean=False)"
   ]
  },
  {
   "cell_type": "code",
   "execution_count": 64,
   "id": "3e5adbaf",
   "metadata": {},
   "outputs": [],
   "source": [
    "#set up lem with added features\n",
    "Xlem = jokes_all[['lemon','ft_wc','ft_length','sent_compound','sent_pos','sent_neg','sent_neu']]\n",
    "ylem = jokes_all['dad']\n",
    "\n",
    "Xlem_train, Xlem_test, ylem_train, ylem_test = train_test_split(Xlem,ylem,test_size=0.2,random_state=42)"
   ]
  },
  {
   "cell_type": "code",
   "execution_count": 32,
   "id": "2b86bb01",
   "metadata": {},
   "outputs": [],
   "source": [
    "#Lemmatize and tfidf\n",
    "cv_lem = TfidfVectorizer(min_df=4,ngram_range=(1,6),stop_words=stop_dad)\n",
    "Xlem_train_cv = cv_lem.fit_transform(Xlem_train['lemon'])\n",
    "\n",
    "#reset index to fix mismatch issue\n",
    "Xlem_train_df = pd.DataFrame(Xlem_train_cv.todense(),\n",
    "                              columns=cv_lem.get_feature_names()).reset_index()\n",
    "\n",
    "Xlem_train_sent = Xlem_train[['ft_wc','ft_length',\n",
    "                                'sent_compound','sent_pos',\n",
    "                                'sent_neg','sent_neu']].reset_index()\n",
    "#combine\n",
    "Xlem_train_df = pd.concat([Xlem_train_df,Xlem_train_sent],axis = 1)"
   ]
  },
  {
   "cell_type": "code",
   "execution_count": 33,
   "id": "223b5587",
   "metadata": {},
   "outputs": [
    {
     "name": "stdout",
     "output_type": "stream",
     "text": [
      "(9669, 15324) (2418, 15324)\n"
     ]
    }
   ],
   "source": [
    "#lemma\n",
    "Xlem_test_cv = cv_lem.transform(Xlem_test['lemon'])\n",
    "#reset index to fix mismatch issue\n",
    "Xlem_test_df = pd.DataFrame(Xlem_test_cv.todense(),\n",
    "                             columns=cv_lem.get_feature_names()).reset_index()\n",
    "\n",
    "Xlem_test_sent = Xlem_test[['ft_wc','ft_length',\n",
    "                              'sent_compound','sent_pos',\n",
    "                              'sent_neg','sent_neu']].reset_index()\n",
    "#combine\n",
    "Xlem_test_df = pd.concat([Xlem_test_df,Xlem_test_sent],axis = 1)\n",
    "print(Xlem_train_df.shape,Xlem_test_df.shape)"
   ]
  },
  {
   "cell_type": "code",
   "execution_count": 34,
   "id": "f40a53f3",
   "metadata": {},
   "outputs": [],
   "source": [
    "#drop index that was added\n",
    "Xlem_train_df.drop(columns='index',inplace=True)\n",
    "Xlem_test_df.drop(columns='index',inplace=True)"
   ]
  },
  {
   "cell_type": "code",
   "execution_count": null,
   "id": "83a3f1ce",
   "metadata": {},
   "outputs": [],
   "source": []
  },
  {
   "cell_type": "code",
   "execution_count": 35,
   "id": "bf864189",
   "metadata": {},
   "outputs": [],
   "source": [
    "#new train test with added features\n",
    "Xport = jokes_all[['porter','ft_wc','ft_length','sent_compound','sent_pos','sent_neg','sent_neu']]\n",
    "yport = jokes_all['dad']\n",
    "\n",
    "Xport_train, Xport_test, yport_train, yport_test = train_test_split(Xport,yport,test_size=0.2,random_state=42)"
   ]
  },
  {
   "cell_type": "code",
   "execution_count": 36,
   "id": "4e659e42",
   "metadata": {},
   "outputs": [],
   "source": [
    "#tfidf that my comp can handle\n",
    "cv_port = TfidfVectorizer(min_df=4,ngram_range=(1,6),stop_words=stop_dad)\n",
    "Xport_train_cv = cv_port.fit_transform(Xport_train['porter'])\n",
    "#reset index and make new DF\n",
    "Xport_train_df = pd.DataFrame(Xport_train_cv.todense(),\n",
    "                              columns=cv_port.get_feature_names()).reset_index()\n",
    "\n",
    "Xport_train_sent = Xport_train[['ft_wc','ft_length',\n",
    "                                'sent_compound','sent_pos',\n",
    "                                'sent_neg','sent_neu']].reset_index()\n",
    "#combine\n",
    "Xport_train_df = pd.concat([Xport_train_df,Xport_train_sent],axis = 1)"
   ]
  },
  {
   "cell_type": "code",
   "execution_count": 37,
   "id": "5e201551",
   "metadata": {},
   "outputs": [
    {
     "name": "stdout",
     "output_type": "stream",
     "text": [
      "(9669, 15203) (2418, 15203)\n"
     ]
    }
   ],
   "source": [
    "#same as above for test\n",
    "Xport_test_cv = cv_port.transform(Xport_test['porter'])\n",
    "Xport_test_df = pd.DataFrame(Xport_test_cv.todense(),\n",
    "                             columns=cv_port.get_feature_names()).reset_index()\n",
    "\n",
    "Xport_test_sent = Xport_test[['ft_wc','ft_length',\n",
    "                              'sent_compound','sent_pos',\n",
    "                              'sent_neg','sent_neu']].reset_index()\n",
    "\n",
    "Xport_test_df = pd.concat([Xport_test_df,Xport_test_sent],axis = 1)\n",
    "print(Xport_train_df.shape,Xport_test_df.shape)"
   ]
  },
  {
   "cell_type": "code",
   "execution_count": 38,
   "id": "552ad6ba",
   "metadata": {},
   "outputs": [],
   "source": [
    "#drop index\n",
    "Xport_train_df.drop(columns='index',inplace=True)\n",
    "Xport_test_df.drop(columns='index',inplace=True)"
   ]
  },
  {
   "cell_type": "code",
   "execution_count": null,
   "id": "272948f4",
   "metadata": {},
   "outputs": [],
   "source": []
  },
  {
   "cell_type": "markdown",
   "id": "6181586a",
   "metadata": {},
   "source": [
    "Third time is the charm, comments are as above"
   ]
  },
  {
   "cell_type": "code",
   "execution_count": 39,
   "id": "d89db736",
   "metadata": {},
   "outputs": [],
   "source": [
    "X = jokes_all[['full_text','ft_wc','ft_length','sent_compound','sent_pos','sent_neg','sent_neu']]\n",
    "y = jokes_all['dad']\n",
    "\n",
    "X_train, X_test, y_train, y_test = train_test_split(X,y,test_size=0.2,random_state=42)"
   ]
  },
  {
   "cell_type": "code",
   "execution_count": 40,
   "id": "9a3db9fc",
   "metadata": {},
   "outputs": [],
   "source": [
    "cv_ = TfidfVectorizer(min_df=4,ngram_range=(1,6),stop_words=stop_dad)\n",
    "X_train_cv = cv_.fit_transform(X_train['full_text'])\n",
    "\n",
    "X_train_df = pd.DataFrame(X_train_cv.todense(),\n",
    "                              columns=cv_.get_feature_names()).reset_index()\n",
    "\n",
    "X_train_sent = X_train[['ft_wc','ft_length',\n",
    "                                'sent_compound','sent_pos',\n",
    "                                'sent_neg','sent_neu']].reset_index()\n",
    "\n",
    "X_train_df = pd.concat([X_train_df,X_train_sent],axis = 1)"
   ]
  },
  {
   "cell_type": "code",
   "execution_count": 41,
   "id": "419544d0",
   "metadata": {},
   "outputs": [
    {
     "name": "stdout",
     "output_type": "stream",
     "text": [
      "(9669, 15403) (2418, 15403)\n"
     ]
    }
   ],
   "source": [
    "X_test_cv = cv_.transform(X_test['full_text'])\n",
    "X_test_df = pd.DataFrame(X_test_cv.todense(),\n",
    "                             columns=cv_.get_feature_names()).reset_index()\n",
    "\n",
    "X_test_sent = X_test[['ft_wc','ft_length',\n",
    "                              'sent_compound','sent_pos',\n",
    "                              'sent_neg','sent_neu']].reset_index()\n",
    "\n",
    "X_test_df = pd.concat([X_test_df,X_test_sent],axis = 1)\n",
    "print(X_train_df.shape,X_test_df.shape)"
   ]
  },
  {
   "cell_type": "code",
   "execution_count": 42,
   "id": "7c86d916",
   "metadata": {},
   "outputs": [],
   "source": [
    "X_train_df.drop(columns='index',inplace=True)\n",
    "X_test_df.drop(columns='index',inplace=True)"
   ]
  },
  {
   "cell_type": "code",
   "execution_count": null,
   "id": "e4948d06",
   "metadata": {},
   "outputs": [],
   "source": []
  },
  {
   "cell_type": "code",
   "execution_count": null,
   "id": "e0f35c39",
   "metadata": {},
   "outputs": [],
   "source": []
  },
  {
   "cell_type": "code",
   "execution_count": null,
   "id": "70757728",
   "metadata": {},
   "outputs": [],
   "source": []
  },
  {
   "cell_type": "code",
   "execution_count": null,
   "id": "09b13901",
   "metadata": {},
   "outputs": [],
   "source": []
  },
  {
   "cell_type": "markdown",
   "id": "ab8b0670",
   "metadata": {},
   "source": [
    "# RIDGE AND LASSO\n",
    "\n",
    "Perform a ridge `lr` and lasso `lr2` on all of the data sets. Originally had done a `LogisticRegressionCV` to scan penalties, and saved the optimal one. \n",
    "\n",
    "Goes as follows:\n",
    "\n",
    "No token:\n",
    " - Standardize\n",
    " - Make, fit, and check results Lasso\n",
    " - Make, fit, and check results Ridge\n",
    " \n",
    "Porter Stem:\n",
    " - Standardize\n",
    " - Make, fit, and check results Lasso\n",
    " - Make, fit, and check results Ridge\n",
    " \n",
    "Lemma:\n",
    " - Standardize\n",
    " - Make, fit, and check results Lasso\n",
    " - Make, fit, and check results Ridge\n",
    " "
   ]
  },
  {
   "cell_type": "code",
   "execution_count": 43,
   "id": "40f394f6",
   "metadata": {},
   "outputs": [
    {
     "name": "stdout",
     "output_type": "stream",
     "text": [
      "(9669, 15401) (2418, 15401)\n"
     ]
    }
   ],
   "source": [
    "Ztrain = ss.fit_transform(X_train_df,y_train)\n",
    "Ztest = ss.transform(X_test_df)\n",
    "print(Ztrain.shape,Ztest.shape)"
   ]
  },
  {
   "cell_type": "code",
   "execution_count": 44,
   "id": "b311c62a",
   "metadata": {},
   "outputs": [],
   "source": [
    "lr = LogisticRegression(random_state=42,penalty = 'l1',max_iter = 100000,\n",
    "                              solver = 'liblinear',C=0.03162278)"
   ]
  },
  {
   "cell_type": "code",
   "execution_count": 45,
   "id": "9616e47f",
   "metadata": {},
   "outputs": [
    {
     "name": "stdout",
     "output_type": "stream",
     "text": [
      "0.9478746509463233 0.7100909842845327\n"
     ]
    },
    {
     "data": {
      "image/png": "[encoded data removed]",
      "text/plain": [
       "<Figure size 432x288 with 2 Axes>"
      ]
     },
     "metadata": {
      "needs_background": "light"
     },
     "output_type": "display_data"
    }
   ],
   "source": [
    "lr.fit(Ztrain,y_train)\n",
    "results = {'fitter':['lasso'],'token':['no']}\n",
    "results['train'],results['test']=plot_cfm(lr,Ztrain,y_train,Ztest,y_test)\n",
    "df_fitresults = pd.concat([df_fitresults,pd.DataFrame(results,index=None)])"
   ]
  },
  {
   "cell_type": "code",
   "execution_count": 46,
   "id": "06daeff0",
   "metadata": {},
   "outputs": [],
   "source": [
    "lr2 = LogisticRegression(random_state=42,penalty = 'l2',max_iter = 100000,\n",
    "                              solver = 'liblinear',C=1.99526231e-05)"
   ]
  },
  {
   "cell_type": "code",
   "execution_count": 47,
   "id": "d2b9a083",
   "metadata": {},
   "outputs": [
    {
     "name": "stdout",
     "output_type": "stream",
     "text": [
      "0.888509670079636 0.7233250620347395\n"
     ]
    },
    {
     "data": {
      "image/png": "[encoded data removed]",
      "text/plain": [
       "<Figure size 432x288 with 2 Axes>"
      ]
     },
     "metadata": {
      "needs_background": "light"
     },
     "output_type": "display_data"
    }
   ],
   "source": [
    "lr2.fit(Ztrain,y_train)\n",
    "results = {'fitter':['ridge'],'token':['no']}\n",
    "results['train'],results['test']=plot_cfm(lr2,Ztrain,y_train,Ztest,y_test)\n",
    "df_fitresults = pd.concat([df_fitresults,pd.DataFrame(results,index=None)])"
   ]
  },
  {
   "cell_type": "code",
   "execution_count": null,
   "id": "9fbcc478",
   "metadata": {},
   "outputs": [],
   "source": []
  },
  {
   "cell_type": "code",
   "execution_count": 48,
   "id": "6189d58a",
   "metadata": {},
   "outputs": [
    {
     "name": "stdout",
     "output_type": "stream",
     "text": [
      "(9669, 15201) (2418, 15201)\n"
     ]
    }
   ],
   "source": [
    "Ztrain = ss.fit_transform(Xport_train_df,yport_train)\n",
    "Ztest = ss.transform(Xport_test_df)\n",
    "print(Ztrain.shape,Ztest.shape)"
   ]
  },
  {
   "cell_type": "code",
   "execution_count": 49,
   "id": "b8880e3b",
   "metadata": {},
   "outputs": [],
   "source": [
    "lr = LogisticRegression(random_state=42,penalty = 'l1',max_iter = 100000,\n",
    "                              solver = 'liblinear',C=0.01778279)"
   ]
  },
  {
   "cell_type": "code",
   "execution_count": 50,
   "id": "a6c87a8d",
   "metadata": {},
   "outputs": [
    {
     "name": "stdout",
     "output_type": "stream",
     "text": [
      "0.8647223084083152 0.717535153019024\n"
     ]
    },
    {
     "data": {
      "image/png": "[encoded data removed]",
      "text/plain": [
       "<Figure size 432x288 with 2 Axes>"
      ]
     },
     "metadata": {
      "needs_background": "light"
     },
     "output_type": "display_data"
    }
   ],
   "source": [
    "lr.fit(Ztrain,yport_train)\n",
    "results = {'fitter':['lasso'],'token':['port']}\n",
    "results['train'],results['test']=plot_cfm(lr,Ztrain,yport_train,Ztest,yport_test)\n",
    "df_fitresults = pd.concat([df_fitresults,pd.DataFrame(results,index=None)])"
   ]
  },
  {
   "cell_type": "code",
   "execution_count": 51,
   "id": "60f6e09f",
   "metadata": {},
   "outputs": [],
   "source": [
    "lr2 = LogisticRegression(random_state=42,penalty = 'l2',max_iter = 100000,\n",
    "                              solver = 'liblinear',C=1.58489319e-05)"
   ]
  },
  {
   "cell_type": "code",
   "execution_count": 52,
   "id": "f1059c9a",
   "metadata": {},
   "outputs": [
    {
     "name": "stdout",
     "output_type": "stream",
     "text": [
      "0.8840624676802151 0.7253928866832092\n"
     ]
    },
    {
     "data": {
      "image/png": "[encoded data removed]",
      "text/plain": [
       "<Figure size 432x288 with 2 Axes>"
      ]
     },
     "metadata": {
      "needs_background": "light"
     },
     "output_type": "display_data"
    }
   ],
   "source": [
    "lr2.fit(Ztrain,yport_train)\n",
    "results = {'fitter':['ridge'],'token':['port']}\n",
    "results['train'],results['test']=plot_cfm(lr2,Ztrain,yport_train,Ztest,yport_test)\n",
    "df_fitresults = pd.concat([df_fitresults,pd.DataFrame(results,index=None)])"
   ]
  },
  {
   "cell_type": "code",
   "execution_count": null,
   "id": "056c447a",
   "metadata": {},
   "outputs": [],
   "source": []
  },
  {
   "cell_type": "code",
   "execution_count": 53,
   "id": "44ba65e2",
   "metadata": {},
   "outputs": [
    {
     "name": "stdout",
     "output_type": "stream",
     "text": [
      "(9669, 15322) (2418, 15322)\n"
     ]
    }
   ],
   "source": [
    "Ztrain = ss.fit_transform(Xlem_train_df,ylem_train)\n",
    "Ztest = ss.transform(Xlem_test_df)\n",
    "print(Ztrain.shape,Ztest.shape)"
   ]
  },
  {
   "cell_type": "code",
   "execution_count": 54,
   "id": "ff453f4d",
   "metadata": {},
   "outputs": [],
   "source": [
    "lr = LogisticRegression(random_state=42,penalty = 'l1',max_iter = 100000,\n",
    "                              solver = 'liblinear',C=0.03162278)"
   ]
  },
  {
   "cell_type": "code",
   "execution_count": 55,
   "id": "cf4181d0",
   "metadata": {},
   "outputs": [
    {
     "name": "stdout",
     "output_type": "stream",
     "text": [
      "0.9465301478953356 0.7138130686517783\n"
     ]
    },
    {
     "data": {
      "image/png": "[encoded data removed]",
      "text/plain": [
       "<Figure size 432x288 with 2 Axes>"
      ]
     },
     "metadata": {
      "needs_background": "light"
     },
     "output_type": "display_data"
    }
   ],
   "source": [
    "lr.fit(Ztrain,ylem_train)\n",
    "results = {'fitter':['lasso'],'token':['lem']}\n",
    "results['train'],results['test']=plot_cfm(lr,Ztrain,ylem_train,Ztest,ylem_test)\n",
    "df_fitresults = pd.concat([df_fitresults,pd.DataFrame(results,index=None)])"
   ]
  },
  {
   "cell_type": "code",
   "execution_count": 56,
   "id": "be5d2619",
   "metadata": {},
   "outputs": [],
   "source": [
    "lr2 = LogisticRegression(random_state=42,penalty = 'l2',max_iter = 100000,\n",
    "                              solver = 'liblinear',C=2.51188643e-05)"
   ]
  },
  {
   "cell_type": "code",
   "execution_count": 57,
   "id": "95020d94",
   "metadata": {},
   "outputs": [
    {
     "name": "stdout",
     "output_type": "stream",
     "text": [
      "0.8962664184507187 0.7241521918941274\n"
     ]
    },
    {
     "data": {
      "image/png": "[encoded data removed]",
      "text/plain": [
       "<Figure size 432x288 with 2 Axes>"
      ]
     },
     "metadata": {
      "needs_background": "light"
     },
     "output_type": "display_data"
    }
   ],
   "source": [
    "lr2.fit(Ztrain,ylem_train)\n",
    "results = {'fitter':['ridge'],'token':['lem']}\n",
    "results['train'],results['test']=plot_cfm(lr2,Ztrain,ylem_train,Ztest,ylem_test)\n",
    "df_fitresults = pd.concat([df_fitresults,pd.DataFrame(results,index=None)])"
   ]
  },
  {
   "cell_type": "code",
   "execution_count": 58,
   "id": "f251397b",
   "metadata": {},
   "outputs": [],
   "source": [
    "#Reset index\n",
    "df_fitresults = df_fitresults.reset_index().drop(columns='index')"
   ]
  },
  {
   "cell_type": "code",
   "execution_count": 59,
   "id": "343d4800",
   "metadata": {},
   "outputs": [],
   "source": [
    "#save fit results\n",
    "df_fitresults.to_csv('../data/fit_results.csv',index=False)"
   ]
  },
  {
   "cell_type": "code",
   "execution_count": 60,
   "id": "c99bc5d2",
   "metadata": {},
   "outputs": [],
   "source": [
    "#nicer Axis Labels\n",
    "fitters = ['Naive Bayes\\nCountV','Naive Bayes\\nTf-idf','Logistic\\nRegression','Decision\\nTree','Random\\nForest','RidgeLR','LassoLR']"
   ]
  },
  {
   "cell_type": "code",
   "execution_count": 61,
   "id": "c7e170a7",
   "metadata": {},
   "outputs": [
    {
     "data": {
      "image/png": "[encoded data removed]",
      "text/plain": [
       "<Figure size 864x576 with 1 Axes>"
      ]
     },
     "metadata": {
      "needs_background": "light"
     },
     "output_type": "display_data"
    }
   ],
   "source": [
    "#plot the results for training\n",
    "\n",
    "fig = plt.figure(figsize=(12,8))\n",
    "ax = sns.barplot(x = df_fitresults['fitter'],y=df_fitresults['train'],hue=df_fitresults['token'])\n",
    "plt.title('Train Sample Accuracy', fontsize = 18, pad = 9)\n",
    "plt.xlabel('Fitter', fontsize = 16, labelpad =8)\n",
    "plt.xticks(fontsize=12)\n",
    "plt.ylabel('Accuracy', fontsize = 16, labelpad = 8)\n",
    "plt.yticks(fontsize=16);\n",
    "plt.ylim(0,1.1);\n",
    "ax.set_xticklabels(fitters);   "
   ]
  },
  {
   "cell_type": "code",
   "execution_count": 62,
   "id": "19cbb28c",
   "metadata": {},
   "outputs": [
    {
     "data": {
      "image/png": "[encoded data removed]",
      "text/plain": [
       "<Figure size 864x576 with 1 Axes>"
      ]
     },
     "metadata": {
      "needs_background": "light"
     },
     "output_type": "display_data"
    }
   ],
   "source": [
    "#plot the results for testing\n",
    "\n",
    "fig = plt.figure(figsize=(12,8))\n",
    "ax = sns.barplot(x = df_fitresults['fitter'],y=df_fitresults['test'],hue=df_fitresults['token'])\n",
    "plt.title('Test Sample Accuracy', fontsize = 18, pad = 9)\n",
    "plt.xlabel('Fitter', fontsize = 16, labelpad =8)\n",
    "plt.xticks(fontsize=12)\n",
    "plt.ylabel('Accuracy', fontsize = 16, labelpad = 8)\n",
    "plt.yticks(fontsize=16);\n",
    "plt.ylim(0,1.1);\n",
    "ax.set_xticklabels(fitters);   "
   ]
  },
  {
   "cell_type": "code",
   "execution_count": 63,
   "id": "bf27c50f",
   "metadata": {},
   "outputs": [],
   "source": [
    "\n"
   ]
  },
  {
   "cell_type": "markdown",
   "id": "1d27846c",
   "metadata": {},
   "source": [
    "Depending on the fit each tokenization has its chance to do better than others, but no token and porter stemming perform the best\n",
    "\n",
    "Logistic Regression performed the best, may have gotten better results if more time to be able to throw more complete fits at the set, and better engineer information. My three top fits are: \n",
    " - No token, Logisitic regression (Best Accuracy)\n",
    " <img src=\"../images/gslr.png\">\n",
    " - No token, Naive Bayes (Highest Specificity)\n",
    " <img src=\"../images/gstf.png\">\n",
    " -Porter Stem, Random Forest (Highest Recall)\n",
    " <img src=\"../images/gsrf_port.png\">"
   ]
  },
  {
   "cell_type": "code",
   "execution_count": null,
   "id": "b06077ed",
   "metadata": {},
   "outputs": [],
   "source": []
  },
  {
   "cell_type": "code",
   "execution_count": null,
   "id": "c13427b3",
   "metadata": {},
   "outputs": [],
   "source": []
  },
  {
   "cell_type": "code",
   "execution_count": null,
   "id": "a5fd9e19",
   "metadata": {},
   "outputs": [],
   "source": []
  }
 ],
 "metadata": {
  "kernelspec": {
   "display_name": "Python 3",
   "language": "python",
   "name": "python3"
  },
  "language_info": {
   "codemirror_mode": {
    "name": "ipython",
    "version": 3
   },
   "file_extension": ".py",
   "mimetype": "text/x-python",
   "name": "python",
   "nbconvert_exporter": "python",
   "pygments_lexer": "ipython3",
   "version": "3.8.8"
  }
 },
 "nbformat": 4,
 "nbformat_minor": 5
}
